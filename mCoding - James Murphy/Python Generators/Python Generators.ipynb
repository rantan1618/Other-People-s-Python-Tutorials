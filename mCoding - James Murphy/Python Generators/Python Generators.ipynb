{
 "cells": [
  {
   "cell_type": "markdown",
   "metadata": {},
   "source": [
    "# Python Generators"
   ]
  },
  {
   "cell_type": "code",
   "execution_count": 3,
   "metadata": {},
   "outputs": [
    {
     "name": "stdout",
     "output_type": "stream",
     "text": [
      "<generator object get_values at 0x0000021BCA8FDB60>\n",
      "hello\n",
      "World\n",
      "420\n"
     ]
    },
    {
     "ename": "StopIteration",
     "evalue": "",
     "output_type": "error",
     "traceback": [
      "\u001b[1;31m---------------------------------------------------------------------------\u001b[0m",
      "\u001b[1;31mStopIteration\u001b[0m                             Traceback (most recent call last)",
      "\u001b[1;32mc:\\Users\\Rantan\\Documents\\Visual Studio Code\\Other-Peoples-Python-Tutorials\\mCoding - James Murphy\\Python Generators\\Python Generators.ipynb Cell 2\u001b[0m in \u001b[0;36m<cell line: 14>\u001b[1;34m()\u001b[0m\n\u001b[0;32m     <a href='vscode-notebook-cell:/c%3A/Users/Rantan/Documents/Visual%20Studio%20Code/Other-Peoples-Python-Tutorials/mCoding%20-%20James%20Murphy/Python%20Generators/Python%20Generators.ipynb#W0sZmlsZQ%3D%3D?line=10'>11</a>\u001b[0m     \u001b[39mprint\u001b[39m(\u001b[39mnext\u001b[39m(gen))\n\u001b[0;32m     <a href='vscode-notebook-cell:/c%3A/Users/Rantan/Documents/Visual%20Studio%20Code/Other-Peoples-Python-Tutorials/mCoding%20-%20James%20Murphy/Python%20Generators/Python%20Generators.ipynb#W0sZmlsZQ%3D%3D?line=11'>12</a>\u001b[0m     \u001b[39mprint\u001b[39m(\u001b[39mnext\u001b[39m(gen))\n\u001b[1;32m---> <a href='vscode-notebook-cell:/c%3A/Users/Rantan/Documents/Visual%20Studio%20Code/Other-Peoples-Python-Tutorials/mCoding%20-%20James%20Murphy/Python%20Generators/Python%20Generators.ipynb#W0sZmlsZQ%3D%3D?line=13'>14</a>\u001b[0m example_get_values()\n",
      "\u001b[1;32mc:\\Users\\Rantan\\Documents\\Visual Studio Code\\Other-Peoples-Python-Tutorials\\mCoding - James Murphy\\Python Generators\\Python Generators.ipynb Cell 2\u001b[0m in \u001b[0;36mexample_get_values\u001b[1;34m()\u001b[0m\n\u001b[0;32m     <a href='vscode-notebook-cell:/c%3A/Users/Rantan/Documents/Visual%20Studio%20Code/Other-Peoples-Python-Tutorials/mCoding%20-%20James%20Murphy/Python%20Generators/Python%20Generators.ipynb#W0sZmlsZQ%3D%3D?line=9'>10</a>\u001b[0m \u001b[39mprint\u001b[39m(\u001b[39mnext\u001b[39m(gen))\n\u001b[0;32m     <a href='vscode-notebook-cell:/c%3A/Users/Rantan/Documents/Visual%20Studio%20Code/Other-Peoples-Python-Tutorials/mCoding%20-%20James%20Murphy/Python%20Generators/Python%20Generators.ipynb#W0sZmlsZQ%3D%3D?line=10'>11</a>\u001b[0m \u001b[39mprint\u001b[39m(\u001b[39mnext\u001b[39m(gen))\n\u001b[1;32m---> <a href='vscode-notebook-cell:/c%3A/Users/Rantan/Documents/Visual%20Studio%20Code/Other-Peoples-Python-Tutorials/mCoding%20-%20James%20Murphy/Python%20Generators/Python%20Generators.ipynb#W0sZmlsZQ%3D%3D?line=11'>12</a>\u001b[0m \u001b[39mprint\u001b[39m(\u001b[39mnext\u001b[39;49m(gen))\n",
      "\u001b[1;31mStopIteration\u001b[0m: "
     ]
    }
   ],
   "source": [
    "def get_values():\n",
    "    yield \"hello\"\n",
    "    yield \"World\"\n",
    "    yield 420\n",
    "    \n",
    "def example_get_values():\n",
    "    gen = get_values()\n",
    "    print(gen)\n",
    "    print(next(gen))\n",
    "    print(next(gen))\n",
    "    print(next(gen))\n",
    "    print(next(gen))\n",
    "\n",
    "example_get_values()"
   ]
  },
  {
   "cell_type": "markdown",
   "metadata": {},
   "source": [
    "Using a for loop"
   ]
  },
  {
   "cell_type": "code",
   "execution_count": 2,
   "metadata": {},
   "outputs": [
    {
     "name": "stdout",
     "output_type": "stream",
     "text": [
      "hello\n",
      "World\n",
      "420\n"
     ]
    }
   ],
   "source": [
    "def get_values():\n",
    "    yield \"hello\"\n",
    "    yield \"World\"\n",
    "    yield 420\n",
    "\n",
    "def example_get_values():\n",
    "    for x in get_values():\n",
    "        print(x)\n",
    "\n",
    "example_get_values()"
   ]
  },
  {
   "cell_type": "markdown",
   "metadata": {},
   "source": [
    "Generators define the iterator of a Class."
   ]
  },
  {
   "cell_type": "code",
   "execution_count": null,
   "metadata": {},
   "outputs": [],
   "source": [
    "from typing import Iterator\n",
    "\n",
    "\n",
    "class Range:\n",
    "    def __init__(self, stop: int)\n",
    "        self.start = 0\n",
    "        self.stop = stop\n",
    "        \n",
    "    def __iter__(self) -> Iterator[int]:\n",
    "        curr =  self.start\n",
    "        while curr < self.stop:\n",
    "            yield curr\n",
    "            curr += 1\n",
    "    "
   ]
  },
  {
   "cell_type": "code",
   "execution_count": 6,
   "metadata": {},
   "outputs": [
    {
     "ename": "SyntaxError",
     "evalue": "cannot assign to function call here. Maybe you meant '==' instead of '='? (2235266121.py, line 1)",
     "output_type": "error",
     "traceback": [
      "\u001b[1;36m  Input \u001b[1;32mIn [6]\u001b[1;36m\u001b[0m\n\u001b[1;33m    input(\"Type Here:\")=testing\u001b[0m\n\u001b[1;37m    ^\u001b[0m\n\u001b[1;31mSyntaxError\u001b[0m\u001b[1;31m:\u001b[0m cannot assign to function call here. Maybe you meant '==' instead of '='?\n"
     ]
    }
   ],
   "source": [
    "input(\"Type Here:\")=testing\n",
    "print(type(testing))"
   ]
  }
 ],
 "metadata": {
  "kernelspec": {
   "display_name": "Python 3.10.6 64-bit",
   "language": "python",
   "name": "python3"
  },
  "language_info": {
   "codemirror_mode": {
    "name": "ipython",
    "version": 3
   },
   "file_extension": ".py",
   "mimetype": "text/x-python",
   "name": "python",
   "nbconvert_exporter": "python",
   "pygments_lexer": "ipython3",
   "version": "3.10.6"
  },
  "orig_nbformat": 4,
  "vscode": {
   "interpreter": {
    "hash": "369f2c481f4da34e4445cda3fffd2e751bd1c4d706f27375911949ba6bb62e1c"
   }
  }
 },
 "nbformat": 4,
 "nbformat_minor": 2
}
